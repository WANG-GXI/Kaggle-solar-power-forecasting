{
 "cells": [
  {
   "cell_type": "markdown",
   "metadata": {
    "collapsed": true,
    "pycharm": {
     "name": "#%% md\n"
    }
   },
   "source": []
  },
  {
   "cell_type": "code",
   "execution_count": 22,
   "outputs": [],
   "source": [
    "import pandas as pd\n",
    "import numpy as np\n",
    "\n",
    "\n",
    "predictions = np.load('D:\\My pythoin\\Kaggle\\Short-term solar power forecasting\\Data\\predictions.npy')  # 预测值"
   ],
   "metadata": {
    "collapsed": false,
    "pycharm": {
     "name": "#%%\n"
    }
   }
  },
  {
   "cell_type": "code",
   "execution_count": 23,
   "outputs": [
    {
     "name": "stdout",
     "output_type": "stream",
     "text": [
      "(10,)\n",
      "(17846, 1)\n"
     ]
    }
   ],
   "source": [
    "# 在 predictions 前面添加 10 个 0\n",
    "zeros = np.zeros(10, dtype=predictions.dtype)\n",
    "print(zeros.shape)\n",
    "print(predictions.shape)\n",
    "new_predictions = np.concatenate([zeros.reshape(-1,1), predictions])\n",
    "time = np.arange(1, len(new_predictions) + 1)\n",
    "\n",
    "# 创建 DataFrame，第一列是 Time，第二列是 Power\n",
    "result_df = pd.DataFrame({\n",
    "    'Time': time,\n",
    "    'Power': new_predictions.flatten()\n",
    "})\n",
    "result_df.to_csv(\"D:\\My pythoin\\Kaggle\\Short-term solar power forecasting\\Data\\submission.csv\",index=False)"
   ],
   "metadata": {
    "collapsed": false,
    "pycharm": {
     "name": "#%%\n"
    }
   }
  }
 ],
 "metadata": {
  "kernelspec": {
   "name": "tensorflow",
   "language": "python",
   "display_name": "tensorflow"
  },
  "language_info": {
   "codemirror_mode": {
    "name": "ipython",
    "version": 2
   },
   "file_extension": ".py",
   "mimetype": "text/x-python",
   "name": "python",
   "nbconvert_exporter": "python",
   "pygments_lexer": "ipython2",
   "version": "2.7.6"
  }
 },
 "nbformat": 4,
 "nbformat_minor": 0
}