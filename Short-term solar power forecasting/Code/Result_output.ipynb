{
 "cells": [
  {
   "cell_type": "markdown",
   "metadata": {
    "collapsed": true,
    "pycharm": {
     "name": "#%% md\n"
    }
   },
   "source": [
    "1.把输出和时间对应\n",
    "\n",
    "2.夜晚时间为0\n"
   ]
  },
  {
   "cell_type": "code",
   "execution_count": 17,
   "outputs": [],
   "source": [
    "import pandas as pd\n",
    "import numpy as np\n",
    "\n",
    "data_path = r'D:\\My pythoin\\Kaggle\\Short-term solar power forecasting\\Data\\test (1).csv'\n",
    "df = pd.read_csv(data_path)\n",
    "timestamps = pd.to_datetime(df['timestamp'])\n",
    "predictions = np.load('D:\\My pythoin\\Kaggle\\Short-term solar power forecasting\\Data\\predictions.npy')  # 预测值"
   ],
   "metadata": {
    "collapsed": false,
    "pycharm": {
     "name": "#%%\n"
    }
   }
  },
  {
   "cell_type": "code",
   "execution_count": 18,
   "outputs": [
    {
     "name": "stdout",
     "output_type": "stream",
     "text": [
      "   Time  Power\n",
      "0     1    0.0\n",
      "1     2    0.0\n",
      "2     3    0.0\n",
      "3     4    0.0\n",
      "4     5    0.0\n"
     ]
    }
   ],
   "source": [
    "# 创建一个新的空列用于存储结果\n",
    "result = []\n",
    "\n",
    "# 获取 predictions 的长度\n",
    "predictions_len = len(predictions)\n",
    "\n",
    "# 遍历所有的时间戳\n",
    "for i, timestamp in enumerate(timestamps):\n",
    "    # 判断时间是否在 6:00 - 19:00 之间\n",
    "    if 6 <= timestamp.hour <= 19:\n",
    "        if i < predictions_len:  # 确保不会超出 predictions 数组的索引\n",
    "            result.append([timestamp, float(predictions[i])])\n",
    "        else:\n",
    "            result.append([timestamp, 0])  # 如果预测值不足，填充 0\n",
    "    else:\n",
    "        # 其他时间段的数据填充为0\n",
    "        result.append([timestamp, 0])\n",
    "\n",
    "# 将结果转化为一个新的 DataFrame\n",
    "result_df = pd.DataFrame(result, columns=[\"Time\", \"Power\"])\n",
    "result_df['Time'] = np.arange(1, len(result_df) + 1)\n",
    "# 如果需要查看结果，可以输出\n",
    "print(result_df.head())"
   ],
   "metadata": {
    "collapsed": false,
    "pycharm": {
     "name": "#%%\n"
    }
   }
  },
  {
   "cell_type": "code",
   "execution_count": 19,
   "outputs": [],
   "source": [
    "result_df.to_csv(\"D:\\My pythoin\\Kaggle\\Short-term solar power forecasting\\Data\\submission.csv\",index=False)"
   ],
   "metadata": {
    "collapsed": false,
    "pycharm": {
     "name": "#%%\n"
    }
   }
  }
 ],
 "metadata": {
  "kernelspec": {
   "name": "tensorflow",
   "language": "python",
   "display_name": "tensorflow"
  },
  "language_info": {
   "codemirror_mode": {
    "name": "ipython",
    "version": 2
   },
   "file_extension": ".py",
   "mimetype": "text/x-python",
   "name": "python",
   "nbconvert_exporter": "python",
   "pygments_lexer": "ipython2",
   "version": "2.7.6"
  }
 },
 "nbformat": 4,
 "nbformat_minor": 0
}