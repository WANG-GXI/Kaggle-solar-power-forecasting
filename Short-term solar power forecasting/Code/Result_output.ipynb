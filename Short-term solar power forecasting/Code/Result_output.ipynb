{
 "cells": [
  {
   "cell_type": "code",
   "execution_count": 33,
   "outputs": [],
   "source": [
    "import pandas as pd\n",
    "import numpy as np\n",
    "\n",
    "\n",
    "predictions = np.load('D:\\My pythoin\\Kaggle\\Short-term solar power forecasting\\Data\\predictions.npy')  # 预测值\n",
    "lght_predictions = np.load('D:\\My pythoin\\Kaggle\\Short-term solar power forecasting\\Data\\lightgbm_data.npy')"
   ],
   "metadata": {
    "collapsed": false,
    "pycharm": {
     "name": "#%%\n"
    }
   }
  },
  {
   "cell_type": "code",
   "execution_count": 34,
   "outputs": [
    {
     "name": "stdout",
     "output_type": "stream",
     "text": [
      "(10,)\n",
      "(17856, 1)\n"
     ]
    }
   ],
   "source": [
    "# # 在 predictions 前面添加 10 个 0\n",
    "zeros = np.zeros(10, dtype=predictions.dtype)\n",
    "print(zeros.shape)\n",
    "new_predictions = np.concatenate([zeros.reshape(-1,1), predictions])\n",
    "print(new_predictions.shape)\n",
    "# time = np.arange(1, len(new_predictions) + 1)\n",
    "#\n",
    "# # 创建 DataFrame，第一列是 Time，第二列是 Power\n",
    "# result_df = pd.DataFrame({\n",
    "#     'Time': time,\n",
    "#     'Power': new_predictions.flatten()\n",
    "# })\n",
    "# result_df.to_csv(\"D:\\My pythoin\\Kaggle\\Short-term solar power forecasting\\Data\\submission.csv\",index=False)"
   ],
   "metadata": {
    "collapsed": false,
    "pycharm": {
     "name": "#%%\n"
    }
   }
  },
  {
   "cell_type": "code",
   "execution_count": 35,
   "outputs": [
    {
     "name": "stdout",
     "output_type": "stream",
     "text": [
      "(1, 17856)\n"
     ]
    }
   ],
   "source": [
    "# 这里想把两个模型的结果结合后输出，但是发现效果更差了，简单的加权应该很难继续提高精度了\n",
    "new_predictions = new_predictions.T\n",
    "print(new_predictions.shape)\n",
    "time = np.arange(1, len(lght_predictions) + 1)\n",
    "Sum_data = (new_predictions+lght_predictions)/2\n",
    "# 创建 DataFrame，第一列是 Time，第二列是 Power\n",
    "result_df = pd.DataFrame({\n",
    "    'Time': time,\n",
    "    'Power': Sum_data.flatten()\n",
    "})\n",
    "\n",
    "# result_df.to_csv(\"D:\\My pythoin\\Kaggle\\Short-term solar power forecasting\\Data\\submission.csv\",index=False)\n"
   ],
   "metadata": {
    "collapsed": false,
    "pycharm": {
     "name": "#%%\n"
    }
   }
  }
 ],
 "metadata": {
  "kernelspec": {
   "name": "tensorflow",
   "language": "python",
   "display_name": "tensorflow"
  },
  "language_info": {
   "codemirror_mode": {
    "name": "ipython",
    "version": 2
   },
   "file_extension": ".py",
   "mimetype": "text/x-python",
   "name": "python",
   "nbconvert_exporter": "python",
   "pygments_lexer": "ipython2",
   "version": "2.7.6"
  }
 },
 "nbformat": 4,
 "nbformat_minor": 0
}